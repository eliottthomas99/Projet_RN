{
  "nbformat": 4,
  "nbformat_minor": 0,
  "metadata": {
    "colab": {
      "name": "train_test_split.ipynb",
      "provenance": [],
      "collapsed_sections": []
    },
    "kernelspec": {
      "name": "python3",
      "display_name": "Python 3"
    },
    "language_info": {
      "name": "python"
    }
  },
  "cells": [
    {
      "cell_type": "code",
      "source": [
        "from os import chdir\n",
        "from google.colab import drive\n",
        "\n",
        "drive.mount(\"/content/drive\", force_remount=True)\n",
        "chdir(\"/content/drive/MyDrive/Projet/src\")"
      ],
      "metadata": {
        "colab": {
          "base_uri": "https://localhost:8080/"
        },
        "id": "p3P7SBn5B0aY",
        "outputId": "fa66925a-5037-4bac-e577-2a1dc1ac403e"
      },
      "execution_count": 10,
      "outputs": [
        {
          "output_type": "stream",
          "name": "stdout",
          "text": [
            "Mounted at /content/drive\n"
          ]
        }
      ]
    },
    {
      "cell_type": "code",
      "source": [
        "import pandas as pd\n",
        "import shutil\n",
        "from tqdm import tqdm"
      ],
      "metadata": {
        "id": "PbH6qweCDZYt"
      },
      "execution_count": 2,
      "outputs": []
    },
    {
      "cell_type": "code",
      "source": [
        "df = pd.read_csv(\"flickr8k/captions.txt\")"
      ],
      "metadata": {
        "id": "uyAbduC81YSt"
      },
      "execution_count": 3,
      "outputs": []
    },
    {
      "cell_type": "code",
      "source": [
        "test_size = int(0.2 * df.shape[0])\n",
        "test_size = test_size - test_size % 5"
      ],
      "metadata": {
        "id": "FhgOPUOr1gL6"
      },
      "execution_count": 4,
      "outputs": []
    },
    {
      "cell_type": "code",
      "source": [
        "train = df[test_size:]\n",
        "test = df[:test_size]"
      ],
      "metadata": {
        "id": "kAdiUSpR1qFe"
      },
      "execution_count": 5,
      "outputs": []
    },
    {
      "cell_type": "code",
      "source": [
        "for img_name in tqdm(train.image.unique()):\n",
        "    shutil.copyfile(\"data/flickr8k/Images/\" + img_name, \"../data/flickr_train/Images/\" + img_name)\n",
        "\n",
        "train.to_csv(\"../data/flickr_train/captions.txt\")"
      ],
      "metadata": {
        "id": "HW_epFNs2_qB"
      },
      "execution_count": 7,
      "outputs": []
    },
    {
      "cell_type": "code",
      "source": [
        "for img_name in tqdm(test.image.unique()):\n",
        "    shutil.copyfile(\"data/flickr8k/Images/\" + img_name, \"../data/flickr_test/Images/\" + img_name)\n",
        "\n",
        "test.to_csv(\"../data/flickr_test/captions.txt\")"
      ],
      "metadata": {
        "colab": {
          "base_uri": "https://localhost:8080/"
        },
        "id": "-r6BbVqe52X5",
        "outputId": "68a576f2-b67b-4f8f-a6cf-c73b7922f056"
      },
      "execution_count": 11,
      "outputs": [
        {
          "output_type": "stream",
          "name": "stderr",
          "text": [
            "100%|██████████| 1618/1618 [02:21<00:00, 11.43it/s]\n"
          ]
        }
      ]
    },
    {
      "cell_type": "code",
      "source": [
        ""
      ],
      "metadata": {
        "id": "OjmJYhPMBSU5"
      },
      "execution_count": null,
      "outputs": []
    }
  ]
}